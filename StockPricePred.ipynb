{
  "nbformat": 4,
  "nbformat_minor": 0,
  "metadata": {
    "colab": {
      "provenance": []
    },
    "kernelspec": {
      "name": "python3",
      "display_name": "Python 3"
    },
    "language_info": {
      "name": "python"
    }
  },
  "cells": [
    {
      "cell_type": "markdown",
      "source": [
        "### Stock Price Prediction (Simple Regression)"
      ],
      "metadata": {
        "id": "9CRiLiWwv0If"
      }
    },
    {
      "cell_type": "markdown",
      "source": [
        "The yfinance will be the dataset for this machine learning model"
      ],
      "metadata": {
        "id": "4byz3yNdv-yy"
      }
    },
    {
      "cell_type": "code",
      "execution_count": 78,
      "metadata": {
        "id": "icjVRrXxvtVa"
      },
      "outputs": [],
      "source": [
        "import yfinance as yf"
      ]
    },
    {
      "cell_type": "markdown",
      "source": [
        "Will we also need the following libraries for the model"
      ],
      "metadata": {
        "id": "n9xdZDAwwJoq"
      }
    },
    {
      "cell_type": "code",
      "source": [
        "import pandas as pd\n",
        "import numpy as np\n",
        "import matplotlib.pyplot as plt\n",
        "from sklearn.model_selection import train_test_split\n",
        "from sklearn.linear_model import LinearRegression\n",
        "from sklearn.metrics import mean_absolute_error, mean_squared_error"
      ],
      "metadata": {
        "id": "8hjasFHJwOSQ"
      },
      "execution_count": 79,
      "outputs": []
    },
    {
      "cell_type": "markdown",
      "source": [
        "### Fetch historical stock data from Apple - \"AAPL\"\n",
        "\n",
        "Download dataset and drop the null values (from the original dataset)"
      ],
      "metadata": {
        "id": "RIUxxa4HxKqP"
      }
    },
    {
      "cell_type": "code",
      "source": [
        "stock_symbol = \"AAPL\"\n",
        "df = yf.download(stock_symbol, start=\"2020-01-01\", end=\"2025-01-01\")\n",
        "df = df[[\"Close\"]]\n",
        "df.dropna(inplace=True)"
      ],
      "metadata": {
        "colab": {
          "base_uri": "https://localhost:8080/"
        },
        "id": "95dHpMMZw7IJ",
        "outputId": "f07b0b1c-27c9-495f-d0db-a38564d1868d"
      },
      "execution_count": 80,
      "outputs": [
        {
          "output_type": "stream",
          "name": "stderr",
          "text": [
            "\r[*********************100%***********************]  1 of 1 completed\n"
          ]
        }
      ]
    },
    {
      "cell_type": "markdown",
      "source": [
        "We create the target variable by shifting the closing price column one row up (shift(-1)).\n",
        "\n",
        "\n",
        "This aligns today’s closing price (X) with tomorrow’s closing price (y), making it a supervised learning problem.\n",
        "\n",
        "\n",
        "The last row will have a missing value since there’s no future price available, so we remove it to keep the data clean."
      ],
      "metadata": {
        "id": "-yvxG3M9zdT5"
      }
    },
    {
      "cell_type": "code",
      "source": [
        "df[\"Tomorrow\"] = df[\"Close\"].shift(-1)\n",
        "df.dropna(inplace=True)\n",
        "\n",
        "X = df[['Close']].values  # Features\n",
        "y = df['Tomorrow'].values  # Target\n",
        "\n",
        "X_train, X_test, y_train, y_test = train_test_split(X, y, test_size=0.2, shuffle=False)"
      ],
      "metadata": {
        "id": "Uu-HFoZRxqsx"
      },
      "execution_count": 81,
      "outputs": []
    },
    {
      "cell_type": "markdown",
      "source": [
        "### Train a Linear Regression Model"
      ],
      "metadata": {
        "id": "NGH_sn4_1rAY"
      }
    },
    {
      "cell_type": "code",
      "source": [
        "model = LinearRegression()\n",
        "model.fit(X_train, y_train)\n",
        "\n",
        "y_pred = model.predict(X_test)"
      ],
      "metadata": {
        "id": "7L8p6d3gz9zf"
      },
      "execution_count": 34,
      "outputs": []
    },
    {
      "cell_type": "markdown",
      "source": [
        "### Evaluate & Visualize\n",
        "\n",
        "Check model performance"
      ],
      "metadata": {
        "id": "qpSijCnA2JiJ"
      }
    },
    {
      "cell_type": "code",
      "source": [
        "mae = mean_absolute_error(y_test, y_pred)\n",
        "mse = mean_squared_error(y_test, y_pred)\n",
        "\n",
        "print(f\"MAE: {mae:.4f}, MSE: {mse:.4f}\")"
      ],
      "metadata": {
        "colab": {
          "base_uri": "https://localhost:8080/"
        },
        "id": "aAKzxKhq109R",
        "outputId": "3d422254-224a-4fec-8c56-cc0cd1385f68"
      },
      "execution_count": 35,
      "outputs": [
        {
          "output_type": "stream",
          "name": "stdout",
          "text": [
            "MAE: 2.1667, MSE: 8.5242\n"
          ]
        }
      ]
    },
    {
      "cell_type": "markdown",
      "source": [
        "### MAE and MSE Explanation\n",
        "\n",
        "**MAE** (Mean Absolute Error) measures the average magnitude of errors in predictions, showing how far the predicted values are from the actual ones.  \n",
        "**MSE** (Mean Squared Error) calculates the average of squared differences, penalizing larger errors more.\n"
      ],
      "metadata": {
        "id": "u4zNkT9438p-"
      }
    },
    {
      "cell_type": "markdown",
      "source": [
        "For my model, the MAE is 2.17, meaning the predictions are off by around 2.17 dollars on average. For a stock price of 105 dollars, this means predictions are usually within +-2.17 dollars.\n",
        "\n",
        "\n",
        "The MSE is 8.52, suggesting some larger errors in the predictions."
      ],
      "metadata": {
        "id": "1Bh-YHYO4_RM"
      }
    },
    {
      "cell_type": "code",
      "source": [
        "plt.figure(figsize=(10,5))\n",
        "plt.plot(y_test, label=\"Actual Prices\", color='blue')\n",
        "plt.plot(y_pred, label=\"Predicted Prices\", linestyle='dashed', color='red')\n",
        "plt.legend()\n",
        "plt.title(f\"Stock Price Prediction for {stock_symbol}\")\n",
        "plt.show()"
      ],
      "metadata": {
        "colab": {
          "base_uri": "https://localhost:8080/",
          "height": 468
        },
        "id": "5jyJPk-B2jlf",
        "outputId": "35bb7b42-7a62-4212-8d86-1608d8d572c4"
      },
      "execution_count": 37,
      "outputs": [
        {
          "output_type": "display_data",
          "data": {
            "text/plain": [
              "<Figure size 1000x500 with 1 Axes>"
            ],
            "image/png": "[encoded data removed]"
          },
          "metadata": {}
        }
      ]
    },
    {
      "cell_type": "markdown",
      "source": [
        "This plot compares the actual and predicted stock prices, with actual prices in blue and predicted prices in red (dashed)."
      ],
      "metadata": {
        "id": "nqgW_Sdi5J9i"
      }
    },
    {
      "cell_type": "markdown",
      "source": [
        "### Enhancing Model - Additional Features\n",
        "\n",
        "- Moving Averages\n",
        "- The Relative Strength Index (RSI)\n",
        "- Moving Average Convergence Divergence (MACD)"
      ],
      "metadata": {
        "id": "x53qaikz51u_"
      }
    },
    {
      "cell_type": "markdown",
      "source": [
        "### Moving Averages"
      ],
      "metadata": {
        "id": "26nmIu3q7GI-"
      }
    },
    {
      "cell_type": "code",
      "source": [
        "# Simple Moving Average (SMA)\n",
        "df[\"SMA_20\"] = df[\"Close\"].rolling(window=20).mean()\n",
        "\n",
        "# Exponential Moving Average (EMA)\n",
        "df[\"EMA_20\"] = df[\"Close\"].ewm(span=20, adjust=False).mean()"
      ],
      "metadata": {
        "id": "6ZitKMPy54Sq"
      },
      "execution_count": 82,
      "outputs": []
    },
    {
      "cell_type": "markdown",
      "source": [
        "### The Relative Strength Index (RSI)\n",
        "\n"
      ],
      "metadata": {
        "id": "B_ly-OEE7t4Q"
      }
    },
    {
      "cell_type": "code",
      "source": [
        "import numpy as np\n",
        "\n",
        "delta = df[\"Close\"].diff() #daily price change\n",
        "\n",
        "gain = delta.where(delta > 0, 0) #if delta > 0 -> gain else 0\n",
        "loss = delta.where(delta < 0, 0) #if delta < 0 -> loss else 0\n",
        "\n",
        "average_gain = gain.rolling(window=14).mean()\n",
        "average_loss = gain.rolling(window=14).mean()\n",
        "\n",
        "rs = average_gain / average_loss\n",
        "\n",
        "df[\"RSI\"] = 100 - (100 / (1 + rs))"
      ],
      "metadata": {
        "id": "Hd3cxYu47imS"
      },
      "execution_count": 83,
      "outputs": []
    },
    {
      "cell_type": "code",
      "source": [
        "print(df[\"RSI\"].head())"
      ],
      "metadata": {
        "colab": {
          "base_uri": "https://localhost:8080/"
        },
        "id": "9B0ReF-o70vR",
        "outputId": "8dfdee74-ca24-4499-bdfb-87e61a8ef442"
      },
      "execution_count": 84,
      "outputs": [
        {
          "output_type": "stream",
          "name": "stdout",
          "text": [
            "Date\n",
            "2020-01-02   NaN\n",
            "2020-01-03   NaN\n",
            "2020-01-06   NaN\n",
            "2020-01-07   NaN\n",
            "2020-01-08   NaN\n",
            "Name: RSI, dtype: float64\n"
          ]
        }
      ]
    },
    {
      "cell_type": "markdown",
      "source": [
        "### Moving Average Convergence Divergence (MACD)"
      ],
      "metadata": {
        "id": "r7SClCy5-ulp"
      }
    },
    {
      "cell_type": "code",
      "source": [
        "df[\"EMA_12\"] = df[\"Close\"].ewm(span=12, adjust=False).mean() # Short-term EMA\n",
        "df[\"EMA_26\"] = df[\"Close\"].ewm(span=26, adjust=False).mean() # Logn-term EMA\n",
        "\n",
        "df[\"MACD\"] = df[\"EMA_12\"] - df[\"EMA_26\"]\n",
        "\n",
        "df['MACD_Signal'] = df['MACD'].ewm(span=9, adjust=False).mean() # Signal Line (9-day EMA of MACD)"
      ],
      "metadata": {
        "id": "k_dwsM5Y-mD7"
      },
      "execution_count": 85,
      "outputs": []
    },
    {
      "cell_type": "markdown",
      "source": [
        "Now that we have multiple new features we can use them to train the model"
      ],
      "metadata": {
        "id": "SPNdaXUC_0xC"
      }
    },
    {
      "cell_type": "code",
      "source": [
        "df.columns = df.columns.get_level_values('Price')\n",
        "df = df.dropna(subset=[\"Close\", 'SMA_20', 'EMA_20', 'RSI', 'MACD', 'MACD_Signal', \"Tomorrow\"])\n",
        "\n",
        "# Define features (X) and target (y)\n",
        "X = df[[\"Close\", 'SMA_20', 'EMA_20', 'RSI', 'MACD', 'MACD_Signal']].values\n",
        "y = df[\"Tomorrow\"].values\n",
        "\n",
        "X_train, X_test, y_train, y_test = train_test_split(X, y, test_size=0.2, shuffle=False)"
      ],
      "metadata": {
        "id": "G6ElBuyC_fhK"
      },
      "execution_count": 100,
      "outputs": []
    },
    {
      "cell_type": "code",
      "source": [
        "model = LinearRegression()\n",
        "model.fit(X_train, y_train)\n",
        "y_pred = model.predict(X_test)"
      ],
      "metadata": {
        "id": "pEM8pCTSAG3V"
      },
      "execution_count": 98,
      "outputs": []
    },
    {
      "cell_type": "code",
      "source": [
        "mae = mean_absolute_error(y_test, y_pred)\n",
        "mse = mean_squared_error(y_test, y_pred)\n",
        "\n",
        "print(f\"MAE: {mae:.4f}, MSE: {mse:.4f}\")"
      ],
      "metadata": {
        "colab": {
          "base_uri": "https://localhost:8080/"
        },
        "id": "lrwFxxHVA9dS",
        "outputId": "2deb3840-5d60-481f-cc38-9feb0235036b"
      },
      "execution_count": 99,
      "outputs": [
        {
          "output_type": "stream",
          "name": "stdout",
          "text": [
            "MAE: 2.1908, MSE: 8.5525\n"
          ]
        }
      ]
    },
    {
      "cell_type": "markdown",
      "source": [
        "The extra features did not make the model better, they made it slightly worse"
      ],
      "metadata": {
        "id": "NgRGa_yHDPQs"
      }
    },
    {
      "cell_type": "code",
      "source": [],
      "metadata": {
        "id": "SyZFxFrFC8VM"
      },
      "execution_count": null,
      "outputs": []
    }
  ]
}