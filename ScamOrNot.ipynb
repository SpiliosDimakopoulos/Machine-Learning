{
  "nbformat": 4,
  "nbformat_minor": 0,
  "metadata": {
    "colab": {
      "provenance": []
    },
    "kernelspec": {
      "name": "python3",
      "display_name": "Python 3"
    },
    "language_info": {
      "name": "python"
    }
  },
  "cells": [
    {
      "cell_type": "markdown",
      "source": [
        "## This is a  machine learning Logistic Regression model\n",
        "that predicts whether an email is spam or not"
      ],
      "metadata": {
        "id": "EfIgxyQJiZ95"
      }
    },
    {
      "cell_type": "code",
      "source": [
        "import pandas as pd\n",
        "\n",
        "data = {\n",
        "    \"text\": [\n",
        "        \"Win a brand new car! Click the link to claim your prize now.\",\n",
        "        \"Meeting at 3 PM. Let me know if you can make it.\",\n",
        "        \"Congratulations! You've won a free vacation to the Bahamas.\",\n",
        "        \"Reminder: Your dentist appointment is scheduled for tomorrow.\",\n",
        "        \"Limited time offer! Buy one, get one free on all items.\",\n",
        "        \"Hey, are we still on for dinner tonight?\",\n",
        "        \"Claim your free gift card now by clicking this link!\",\n",
        "        \"Please review the attached document before our meeting.\",\n",
        "        \"Your loan has been approved! Apply now to receive funds.\",\n",
        "        \"Happy birthday! Hope you have a great day.\"\n",
        "    ]\n",
        "}\n",
        "\n",
        "y = [1, 1, 0, 1, 1, 1, 1, 1, 0, 1]\n",
        "\n",
        "df = pd.DataFrame(data)"
      ],
      "metadata": {
        "id": "AKOFEI9EiabB"
      },
      "execution_count": 18,
      "outputs": []
    },
    {
      "cell_type": "markdown",
      "source": [
        "Here's a dataset with email text samples and their corresponding labels (spam or not spam)."
      ],
      "metadata": {
        "id": "p8GJaZsZjcu8"
      }
    },
    {
      "cell_type": "markdown",
      "source": [
        "Before we train a model, we need to convert text into numerical features using CountVectorizer."
      ],
      "metadata": {
        "id": "T-hHG9X0jwBc"
      }
    },
    {
      "cell_type": "code",
      "source": [
        "from sklearn.feature_extraction.text import CountVectorizer\n",
        "\n",
        "vectorizer = CountVectorizer()\n",
        "\n",
        "X_counts = vectorizer.fit_transform(df[\"text\"])"
      ],
      "metadata": {
        "id": "78DuqNkjjwvw"
      },
      "execution_count": 11,
      "outputs": []
    },
    {
      "cell_type": "markdown",
      "source": [
        "CountVectorizer: Converts text into a matrix of word counts (e.g., how many times each word appears in the text)."
      ],
      "metadata": {
        "id": "0N76lWQyk3n9"
      }
    },
    {
      "cell_type": "code",
      "source": [
        "from sklearn.linear_model import LogisticRegression\n",
        "from sklearn.model_selection import train_test_split\n",
        "from sklearn.metrics import accuracy_score\n",
        "\n",
        "X_train, X_test, y_train, y_test = train_test_split(X_counts, y, test_size=0.2, random_state=42)"
      ],
      "metadata": {
        "id": "AshxV_vzlCsi"
      },
      "execution_count": 19,
      "outputs": []
    },
    {
      "cell_type": "markdown",
      "source": [
        "Split data into training and test sets (80% train, 20% test)"
      ],
      "metadata": {
        "id": "LlpPXEpzmOoF"
      }
    },
    {
      "cell_type": "markdown",
      "source": [
        "### Initialize and train the Logistic Regression model"
      ],
      "metadata": {
        "id": "lV941jADnGbG"
      }
    },
    {
      "cell_type": "code",
      "source": [
        "model = LogisticRegression()\n",
        "model.fit(X_train, y_train)\n",
        "\n",
        "#Predict on the test set\n",
        "y_pred = model.predict(X_test)"
      ],
      "metadata": {
        "id": "622jPLzgnH_8"
      },
      "execution_count": 33,
      "outputs": []
    },
    {
      "cell_type": "markdown",
      "source": [
        "Evaluate accuracy"
      ],
      "metadata": {
        "id": "ttHJg1whnvOP"
      }
    },
    {
      "cell_type": "code",
      "source": [
        "accuracy = accuracy_score(y_test, y_pred)\n",
        "\n",
        "print(accuracy)"
      ],
      "metadata": {
        "colab": {
          "base_uri": "https://localhost:8080/"
        },
        "id": "38iZurpKnqQu",
        "outputId": "d2d1af5e-acbc-4072-82b2-89eb7c13fc1f"
      },
      "execution_count": 24,
      "outputs": [
        {
          "output_type": "stream",
          "name": "stdout",
          "text": [
            "0.5\n"
          ]
        }
      ]
    },
    {
      "cell_type": "markdown",
      "source": [
        "The model with 0.5 accuracy is only performing slightly better than random guessing.\n",
        "\n",
        "We can use a different way of converting text to numerical values.\n",
        "\n",
        "We can use TF-IDF instead of CountVectorizer"
      ],
      "metadata": {
        "id": "9Sp_fda5pEBZ"
      }
    },
    {
      "cell_type": "code",
      "source": [
        "from sklearn.feature_extraction.text import TfidfVectorizer\n",
        "\n",
        "vectorizer = TfidfVectorizer()\n",
        "X_tfidf = vectorizer.fit_transform(df[\"text\"])"
      ],
      "metadata": {
        "id": "6YOClZLMokG5"
      },
      "execution_count": 27,
      "outputs": []
    },
    {
      "cell_type": "code",
      "source": [
        "from sklearn.linear_model import LogisticRegression\n",
        "from sklearn.model_selection import train_test_split\n",
        "from sklearn.metrics import accuracy_score\n",
        "\n",
        "X_train, X_test, y_train, y_test = train_test_split(X_tfidf, y, test_size=0.2, random_state=42)\n",
        "\n",
        "model = LogisticRegression()\n",
        "model.fit(X_train, y_train)\n",
        "\n",
        "y_pred = model.predict(X_test)"
      ],
      "metadata": {
        "id": "PaYT-xv5qEan"
      },
      "execution_count": 42,
      "outputs": []
    },
    {
      "cell_type": "code",
      "source": [
        "accuracy = accuracy_score(y_test, y_pred)\n",
        "print(accuracy)"
      ],
      "metadata": {
        "colab": {
          "base_uri": "https://localhost:8080/"
        },
        "id": "v8tpEV7Rqo2O",
        "outputId": "7d21fbd4-0633-409d-a0b7-7c941ac1eb40"
      },
      "execution_count": 46,
      "outputs": [
        {
          "output_type": "stream",
          "name": "stdout",
          "text": [
            "0.5\n"
          ]
        }
      ]
    },
    {
      "cell_type": "markdown",
      "source": [
        "Still the accuracy stays 0.5\n",
        "\n",
        "Lets try again with more data"
      ],
      "metadata": {
        "id": "bZoYY0H5sE_B"
      }
    },
    {
      "cell_type": "code",
      "source": [
        "import pandas as pd\n",
        "\n",
        "bigData = {\n",
        "    \"bigText\": [\n",
        "        \"Could you please approve the meeting request for tomorrow at 10 AM?\",\n",
        "        \"I would like to request a day off next Friday due to personal matters.\",\n",
        "        \"Can you clarify the procedure for submitting a complaint?\",\n",
        "        \"Please confirm if we can have the meeting at 2 PM on Wednesday.\",\n",
        "        \"Can you approve my day off request for next Monday?\",\n",
        "        \"I need to take a day off next Tuesday. Could you please approve?\",\n",
        "        \"I'm requesting a sick day for tomorrow. Please let me know if that works.\",\n",
        "        \"Please review the attached document for our upcoming discussion.\",\n",
        "        \"Can you confirm if the meeting time works for everyone?\",\n",
        "        \"I am requesting a half-day off on Thursday. Please confirm.\",\n",
        "        \"I need to reschedule the meeting for next Tuesday at 3 PM.\",\n",
        "        \"I am requesting approval for a vacation day on the 25th of this month.\",\n",
        "        \"Please confirm if I can take a personal day next Friday.\",\n",
        "        \"Can I take the afternoon off to attend an appointment?\",\n",
        "        \"Please approve my request for a day off next Monday.\",\n",
        "        \"I’m requesting time off on the 18th for family reasons.\",\n",
        "        \"Can you approve my request to leave early today?\",\n",
        "        \"Please let me know if the meeting can be moved to another day.\",\n",
        "        \"Can I take a day off this coming Monday for personal reasons?\",\n",
        "        \"Your Crypto wallet was hacked from India, call us here\",\n",
        "        \"Requesting your approval to take Thursday off next week.\",\n",
        "        \"Please confirm if the proposed meeting time works for you.\",\n",
        "        \"I’d like to request a day off for personal reasons on the 12th.\",\n",
        "        \"Can you confirm the meeting schedule for tomorrow?\",\n",
        "        \"I am requesting a leave of absence for next Wednesday.\",\n",
        "        \"Can you approve my sick day request for next Tuesday?\",\n",
        "        \"Please approve my request for personal time off tomorrow.\",\n",
        "        \"Could you confirm if we can reschedule the meeting for next Friday?\",\n",
        "        \"Requesting approval for time off on the 7th of next month.\",\n",
        "        \"I need to take the day off for a doctor's appointment on the 3rd.\",\n",
        "        \"Please confirm if I can take a vacation day on the 20th.\",\n",
        "        \"I’m requesting approval to take the afternoon off tomorrow.\",\n",
        "        \"Sexy woman around you looking for a father for their child\",\n",
        "        \"Could you approve my leave request for the 10th of this month?\",\n",
        "        \"Please let me know if I can take a personal day next Wednesday.\",\n",
        "        \"Can you confirm if we are still meeting tomorrow at 11 AM?\",\n",
        "        \"I need to leave early today for an appointment. Please approve.\",\n",
        "        \"Can you confirm the new schedule for our meeting on the 14th?\",\n",
        "        \"I’d like to request a day off on the 5th. Let me know if that’s okay.\",\n",
        "        \"Could you approve my sick leave for the 2nd of next week?\",\n",
        "        \"Please let me know if I can take the afternoon off on the 17th.\",\n",
        "        \"I’m requesting a day off on the 21st for personal reasons.\",\n",
        "        \"Could you approve my leave request for this Friday?\",\n",
        "        \"Please confirm if we can reschedule the meeting for next Monday.\",\n",
        "        \"I’m requesting approval for time off next Thursday due to personal reasons.\",\n",
        "        \"Please confirm if I can leave early tomorrow.\",\n",
        "        \"Could you approve my vacation request for the 26th?\",\n",
        "        \"I need to take a day off on the 1st. Please approve.\",\n",
        "        \"Wow you are the great winner of 100 Billion Dollars!\",\n",
        "        \"Can you confirm the time for our meeting tomorrow?\",\n",
        "        \"Please approve my request for a half-day leave tomorrow.\",\n",
        "        \"I need to leave early today to attend a family event. Please approve.\",\n",
        "        \"I would like to request time off next Tuesday for a personal matter.\",\n",
        "        \"Can you approve my request for a sick day on the 19th?\",\n",
        "        \"Please let me know if I can take the day off on the 22nd.\",\n",
        "        \"Can you approve my leave request for next Wednesday?\",\n",
        "        \"Please confirm if I can take a personal day on the 8th.\",\n",
        "        \"Can you confirm the meeting time for the 15th?\",\n",
        "        \"I’m requesting approval for a leave of absence next Monday.\",\n",
        "        \"Could you approve my request for time off next Friday?\",\n",
        "        \"Please confirm if I can take a vacation day on the 29th.\"\n",
        "    ]\n",
        "}\n",
        "\n",
        "df = pd.DataFrame(bigData)\n",
        "\n",
        "y = df['bigText'].apply(\n",
        "    lambda x: 1 if any(keyword in x.lower() for keyword in ['request', 'day off', 'approve', 'sick day', 'leave']) else 0\n",
        ")\n"
      ],
      "metadata": {
        "id": "trlgNLE_sKVC"
      },
      "execution_count": 88,
      "outputs": []
    },
    {
      "cell_type": "code",
      "source": [
        "from sklearn.feature_extraction.text import TfidfVectorizer\n",
        "\n",
        "vectorizer = TfidfVectorizer()\n",
        "X_tfidf = vectorizer.fit_transform(df[\"bigText\"])"
      ],
      "metadata": {
        "id": "GBkrqvz3s3wk"
      },
      "execution_count": 89,
      "outputs": []
    },
    {
      "cell_type": "code",
      "source": [
        "from sklearn.linear_model import LogisticRegression\n",
        "from sklearn.model_selection import train_test_split\n",
        "from sklearn.metrics import accuracy_score\n",
        "\n",
        "X_train, X_test, y_train, y_test = train_test_split(X_tfidf, y, test_size=0.2, random_state=42)\n",
        "\n",
        "model = LogisticRegression()\n",
        "model.fit(X_train, y_train)\n",
        "\n",
        "y_pred = model.predict(X_test)"
      ],
      "metadata": {
        "id": "wtM_-lzNtAMT"
      },
      "execution_count": 90,
      "outputs": []
    },
    {
      "cell_type": "code",
      "source": [
        "accuracy = accuracy_score(y_test, y_pred)\n",
        "print(accuracy)"
      ],
      "metadata": {
        "colab": {
          "base_uri": "https://localhost:8080/"
        },
        "id": "cGMzyW-ptjmQ",
        "outputId": "35a19277-0fa5-40ba-9b56-6d06ef0913d8"
      },
      "execution_count": 91,
      "outputs": [
        {
          "output_type": "stream",
          "name": "stdout",
          "text": [
            "0.6923076923076923\n"
          ]
        }
      ]
    },
    {
      "cell_type": "markdown",
      "source": [
        "69.2% is good for me rn.\n",
        "\n",
        "This was my first machine learning project <3\n",
        "\n",
        "Blessed to have the opportunity is build cool stuff."
      ],
      "metadata": {
        "id": "6MvZ6z5ov9Ok"
      }
    }
  ]
}